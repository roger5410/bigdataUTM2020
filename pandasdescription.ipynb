Pandas description

Step 3. Use the tsv file and assign it to a dataframe called food¶
In [ ]:

Step 4. See the first 5 entries
